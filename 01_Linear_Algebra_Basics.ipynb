{
  "nbformat": 4,
  "nbformat_minor": 0,
  "metadata": {
    "colab": {
      "provenance": [],
      "authorship_tag": "ABX9TyMmFof4OaeKuQ5YRsh2YUhb",
      "include_colab_link": true
    },
    "kernelspec": {
      "name": "python3",
      "display_name": "Python 3"
    },
    "language_info": {
      "name": "python"
    }
  },
  "cells": [
    {
      "cell_type": "markdown",
      "metadata": {
        "id": "view-in-github",
        "colab_type": "text"
      },
      "source": [
        "<a href=\"https://colab.research.google.com/github/chrisrichardson/linear-algebra/blob/main/01_Linear_Algebra_Basics.ipynb\" target=\"_parent\"><img src=\"https://colab.research.google.com/assets/colab-badge.svg\" alt=\"Open In Colab\"/></a>"
      ]
    },
    {
      "cell_type": "code",
      "source": [
        "# Import the libraries we are going to use\n",
        "import numpy as np\n",
        "import numba"
      ],
      "metadata": {
        "id": "IhANWDUo-azq"
      },
      "execution_count": 24,
      "outputs": []
    },
    {
      "cell_type": "markdown",
      "source": [
        "# Matrices and vectors\n",
        "\n",
        "* vector = 1D: e.g. `[1.0, 2.2, -3.0, 4.0]`\n",
        "* matrix = 2D, e.g. $\\left(\\begin{matrix} 0.01 & 2.2 \\\\ -3.3 & 4.1 \\end{matrix}\\right)$\n",
        "* tensor = N-dimensional\n",
        "\n",
        "All of these are supported by `numpy`.\n"
      ],
      "metadata": {
        "id": "C-cmfslBGxJC"
      }
    },
    {
      "cell_type": "markdown",
      "source": [
        "## Vectors"
      ],
      "metadata": {
        "id": "9Fk55PVO9isq"
      }
    },
    {
      "cell_type": "markdown",
      "source": [
        "Note that a vector can be a row or a column, i.e. the shape can be `(1, N)` or `(N, 1)` - or just `(N,)`. The actual *value data* in memory is the same for all of these."
      ],
      "metadata": {
        "id": "2S8qIencaRGS"
      }
    },
    {
      "cell_type": "code",
      "source": [
        "# Vector\n",
        "b = np.array([1.0, 2.0, 3.0])\n",
        "print(b, b.shape)\n",
        "print()\n",
        "\n",
        "# Row vector\n",
        "b = np.array([[1.0, 2.0, 3.0]])\n",
        "print(b, b.shape)\n",
        "print()\n",
        "\n",
        "# Column vector\n",
        "b = np.array([[1.0], [2.0], [3.0]])\n",
        "print(b, b.shape)\n",
        "print()"
      ],
      "metadata": {
        "colab": {
          "base_uri": "https://localhost:8080/"
        },
        "id": "0_PCAOH3ZtfI",
        "outputId": "26eca6ee-d1be-4e96-b457-b58b42d7b71f"
      },
      "execution_count": 7,
      "outputs": [
        {
          "output_type": "stream",
          "name": "stdout",
          "text": [
            "[1. 2. 3.] (3,)\n",
            "\n",
            "[[1. 2. 3.]] (1, 3)\n",
            "\n",
            "[[1.]\n",
            " [2.]\n",
            " [3.]] (3, 1)\n",
            "\n"
          ]
        }
      ]
    },
    {
      "cell_type": "markdown",
      "source": [
        "### dtype\n",
        "\n",
        "A `numpy` array has a data type (or `dtype`) associated with it, which is usually a floating point type (e.g. 64-bit or \"double\" precision). You can set it or check it."
      ],
      "metadata": {
        "id": "tnYwu93s7LCi"
      }
    },
    {
      "cell_type": "code",
      "source": [
        "# Looking at dtypes\n",
        "b = np.array([1.0, 2.0, 5.0, 8.0])\n",
        "print(b, b.dtype)\n",
        "\n",
        "b = np.array([1, 2, 3])\n",
        "print(b, b.dtype)\n",
        "\n",
        "b = np.array([1, 2, 3], dtype=np.float32)\n",
        "print(b, b.dtype)\n"
      ],
      "metadata": {
        "colab": {
          "base_uri": "https://localhost:8080/"
        },
        "id": "cZo7G6Jk7jKQ",
        "outputId": "615025aa-c861-44ec-dc51-77edfafde0da"
      },
      "execution_count": 12,
      "outputs": [
        {
          "output_type": "stream",
          "name": "stdout",
          "text": [
            "[1. 2. 5. 8.] float64\n",
            "[1 2 3] int64\n",
            "[1. 2. 3.] float32\n"
          ]
        }
      ]
    },
    {
      "cell_type": "markdown",
      "source": [
        "### Operations on vectors\n",
        "\n",
        "dot product: `a.dot(b)`\n",
        "\n",
        "axpy: `w = a * x + y`\n",
        "\n",
        "norm: `np.linalg.norm(a)`"
      ],
      "metadata": {
        "id": "qNpd6A8i8A5n"
      }
    },
    {
      "cell_type": "code",
      "source": [
        "a = np.array([1.0, 2.0, 3.0])\n",
        "b = np.array([2.0, 0.5, -1.0])\n",
        "\n",
        "# Dot product\n",
        "print(a.dot(b))\n",
        "\n",
        "# Norm\n",
        "print(np.linalg.norm(a), np.linalg.norm(b))\n",
        "\n",
        "# axpy\n",
        "c = a + b\n",
        "print(c)\n",
        "\n",
        "# More unusual operation - pointwise multiplication:\n",
        "c = a * b\n",
        "print(c)\n"
      ],
      "metadata": {
        "colab": {
          "base_uri": "https://localhost:8080/"
        },
        "id": "AyJ1BChe8Wha",
        "outputId": "0712a26a-da88-44bf-b442-e55c4864da8e"
      },
      "execution_count": 23,
      "outputs": [
        {
          "output_type": "stream",
          "name": "stdout",
          "text": [
            "0.0\n",
            "3.7416573867739413 2.29128784747792\n",
            "[3.  2.5 2. ]\n",
            "[ 2.  1. -3.]\n"
          ]
        }
      ]
    },
    {
      "cell_type": "markdown",
      "source": [
        "## Matrices\n",
        "\n",
        "A matrix is a two-dimensional array which can be used for linear algebra operations."
      ],
      "metadata": {
        "id": "sbDiL95t9sF6"
      }
    },
    {
      "cell_type": "markdown",
      "source": [
        "### Matrices in numpy\n",
        "\n",
        "Matrices behave in numpy in a similar way to vectors.\n",
        "\n",
        "**Storage**\n",
        "\n",
        "The data is generally stored in contiguous memory, either *Row Major* (C-style) or *Column Major* (FORTRAN-style).\n",
        "Every entry is stored (even if it is zero). This is called **dense** storage."
      ],
      "metadata": {
        "id": "5gdT-DQ794HL"
      }
    },
    {
      "cell_type": "code",
      "source": [
        "A = np.array([[1, -2, 3],\n",
        "              [3, 1, 5],\n",
        "              [3, 4, 1]], dtype=np.float64)\n",
        "print(A)\n",
        "print(A.shape)\n",
        "print(A.dtype)\n",
        "print(A.flags)"
      ],
      "metadata": {
        "colab": {
          "base_uri": "https://localhost:8080/"
        },
        "id": "mCYMAtVUG9Yd",
        "outputId": "386b79ae-fc3f-4953-fd26-23a5b256c73d"
      },
      "execution_count": null,
      "outputs": [
        {
          "output_type": "stream",
          "name": "stdout",
          "text": [
            "[[ 1. -2.  3.]\n",
            " [ 3.  1.  5.]\n",
            " [ 3.  4.  1.]]\n",
            "(3, 3)\n",
            "float64\n",
            "  C_CONTIGUOUS : True\n",
            "  F_CONTIGUOUS : False\n",
            "  OWNDATA : True\n",
            "  WRITEABLE : True\n",
            "  ALIGNED : True\n",
            "  WRITEBACKIFCOPY : False\n",
            "\n"
          ]
        }
      ]
    },
    {
      "cell_type": "code",
      "source": [
        "@numba.njit\n",
        "def matvec0(A, b):\n",
        "  y = np.zeros(A.shape[0])\n",
        "  for i in range(A.shape[0]):\n",
        "    y[i] += np.dot(A[i, :], b[:])\n",
        "  return y\n"
      ],
      "metadata": {
        "id": "G5b5IZuIHLi5"
      },
      "execution_count": null,
      "outputs": []
    },
    {
      "cell_type": "code",
      "source": [
        "b = np.array([1, 2, 3], dtype=float)\n",
        "print(b)\n",
        "print(matvec0(A, b))"
      ],
      "metadata": {
        "colab": {
          "base_uri": "https://localhost:8080/"
        },
        "id": "Eh1HcTrLHUMj",
        "outputId": "2536488e-e0fa-446e-e89e-b28dd7135b81"
      },
      "execution_count": null,
      "outputs": [
        {
          "output_type": "stream",
          "name": "stdout",
          "text": [
            "[1. 2. 3.]\n",
            "[ 6. 20. 14.]\n"
          ]
        }
      ]
    },
    {
      "cell_type": "code",
      "source": [
        "@numba.njit\n",
        "def matvec1(A, b):\n",
        "  y = np.zeros(A.shape[0])\n",
        "  for j in range(A.shape[1]):\n",
        "    y += A[:, j] * b[j]\n",
        "  return y"
      ],
      "metadata": {
        "id": "4yP4nzhIHWoo"
      },
      "execution_count": null,
      "outputs": []
    },
    {
      "cell_type": "code",
      "source": [
        "print(matvec1(A, b))"
      ],
      "metadata": {
        "colab": {
          "base_uri": "https://localhost:8080/"
        },
        "id": "q8IKj1scHXOZ",
        "outputId": "537ca703-93c5-4e9e-a390-cc6b184fed99"
      },
      "execution_count": null,
      "outputs": [
        {
          "output_type": "stream",
          "name": "stdout",
          "text": [
            "[ 6. 20. 14.]\n"
          ]
        }
      ]
    },
    {
      "cell_type": "code",
      "source": [
        "print(A @ b)"
      ],
      "metadata": {
        "colab": {
          "base_uri": "https://localhost:8080/"
        },
        "id": "3hBryny8Hnm3",
        "outputId": "4b46a6d2-af42-4c3c-817a-3ba913d4be09"
      },
      "execution_count": null,
      "outputs": [
        {
          "output_type": "stream",
          "name": "stdout",
          "text": [
            "[ 6. 20. 14.]\n"
          ]
        }
      ]
    },
    {
      "cell_type": "code",
      "source": [
        "print(np.dot(A, b))"
      ],
      "metadata": {
        "colab": {
          "base_uri": "https://localhost:8080/"
        },
        "id": "zxIwOyRoHt0U",
        "outputId": "2b4b4b54-2ab2-4dfb-d252-fe167e5d9ed6"
      },
      "execution_count": null,
      "outputs": [
        {
          "output_type": "stream",
          "name": "stdout",
          "text": [
            "[ 6. 20. 14.]\n"
          ]
        }
      ]
    },
    {
      "cell_type": "code",
      "source": [
        "print(np.matmul(A, b))"
      ],
      "metadata": {
        "colab": {
          "base_uri": "https://localhost:8080/"
        },
        "id": "dcLYxMipHwFX",
        "outputId": "1407532e-98b5-4651-ab0c-075fd09147f1"
      },
      "execution_count": null,
      "outputs": [
        {
          "output_type": "stream",
          "name": "stdout",
          "text": [
            "[ 6. 20. 14.]\n"
          ]
        }
      ]
    },
    {
      "cell_type": "code",
      "source": [],
      "metadata": {
        "id": "0r-r9GqKHzeg"
      },
      "execution_count": null,
      "outputs": []
    },
    {
      "cell_type": "markdown",
      "source": [
        "Create a large matrix of random numbers (use `numpy.random.random`) and multiply it by a random vector b. Try the different matvec above, and see which is fastest."
      ],
      "metadata": {
        "id": "ocXdNXUTAi6A"
      }
    },
    {
      "cell_type": "code",
      "source": [
        "N = 1000\n",
        "A = np.random.random((N, N))\n",
        "# A = np.asfortranarray(A)\n",
        "b = np.random.random(N)"
      ],
      "metadata": {
        "id": "YsDvx-3LH8j2"
      },
      "execution_count": null,
      "outputs": []
    },
    {
      "cell_type": "code",
      "source": [
        "%%timeit -n 100\n",
        "A @ b"
      ],
      "metadata": {
        "id": "j_uT4NWBIGW8",
        "colab": {
          "base_uri": "https://localhost:8080/"
        },
        "outputId": "93a57bbe-ee64-46c6-f626-fd0074498953"
      },
      "execution_count": null,
      "outputs": [
        {
          "output_type": "stream",
          "name": "stdout",
          "text": [
            "904 µs ± 265 µs per loop (mean ± std. dev. of 7 runs, 100 loops each)\n"
          ]
        }
      ]
    },
    {
      "cell_type": "code",
      "source": [
        "%%timeit -n 100\n",
        "matvec0(A, b)"
      ],
      "metadata": {
        "colab": {
          "base_uri": "https://localhost:8080/"
        },
        "id": "9IOsCoceA_Ec",
        "outputId": "4d2a87ae-d521-4140-add9-7fdeaaddb96c"
      },
      "execution_count": null,
      "outputs": [
        {
          "output_type": "stream",
          "name": "stdout",
          "text": [
            "2.12 ms ± 107 µs per loop (mean ± std. dev. of 7 runs, 100 loops each)\n"
          ]
        }
      ]
    },
    {
      "cell_type": "code",
      "source": [
        "%%timeit -n 100\n",
        "matvec1(A, b)"
      ],
      "metadata": {
        "colab": {
          "base_uri": "https://localhost:8080/"
        },
        "id": "Q0mCyRIiBjeh",
        "outputId": "c159ea36-8d01-4518-f73f-8ed5423a5018"
      },
      "execution_count": null,
      "outputs": [
        {
          "output_type": "stream",
          "name": "stdout",
          "text": [
            "816 µs ± 20.6 µs per loop (mean ± std. dev. of 7 runs, 100 loops each)\n"
          ]
        }
      ]
    },
    {
      "cell_type": "code",
      "source": [
        "%%timeit -n 100\n",
        "np.dot(A, b)"
      ],
      "metadata": {
        "colab": {
          "base_uri": "https://localhost:8080/"
        },
        "id": "F5VAK5D-Bmcs",
        "outputId": "188330de-53dc-4e93-d47e-116ba1b115f4"
      },
      "execution_count": null,
      "outputs": [
        {
          "output_type": "stream",
          "name": "stdout",
          "text": [
            "1.63 ms ± 182 µs per loop (mean ± std. dev. of 7 runs, 100 loops each)\n"
          ]
        }
      ]
    },
    {
      "cell_type": "code",
      "source": [
        "%%timeit -n 100\n",
        "np.matmul(A, b)"
      ],
      "metadata": {
        "colab": {
          "base_uri": "https://localhost:8080/"
        },
        "id": "rc1FZeurBrkG",
        "outputId": "2dfc1897-bed2-49aa-b07d-ea50d5fad71e"
      },
      "execution_count": null,
      "outputs": [
        {
          "output_type": "stream",
          "name": "stdout",
          "text": [
            "2.88 ms ± 583 µs per loop (mean ± std. dev. of 7 runs, 100 loops each)\n"
          ]
        }
      ]
    },
    {
      "cell_type": "code",
      "source": [
        "%%timeit -n 100\n",
        "np.einsum(\"ij,j->i\", A, b)"
      ],
      "metadata": {
        "colab": {
          "base_uri": "https://localhost:8080/"
        },
        "id": "OytzhuAVBwyt",
        "outputId": "b1943b0f-fa21-4357-a5c8-8483bd44afe8"
      },
      "execution_count": null,
      "outputs": [
        {
          "output_type": "stream",
          "name": "stdout",
          "text": [
            "3.63 ms ± 45.2 µs per loop (mean ± std. dev. of 7 runs, 100 loops each)\n"
          ]
        }
      ]
    },
    {
      "cell_type": "code",
      "source": [],
      "metadata": {
        "id": "Yzy_0eaigRqW"
      },
      "execution_count": null,
      "outputs": []
    }
  ]
}