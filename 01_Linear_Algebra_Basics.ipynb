{
  "nbformat": 4,
  "nbformat_minor": 0,
  "metadata": {
    "colab": {
      "provenance": [],
      "authorship_tag": "ABX9TyPVSog1GFejJAQTgpPAr1im",
      "include_colab_link": true
    },
    "kernelspec": {
      "name": "python3",
      "display_name": "Python 3"
    },
    "language_info": {
      "name": "python"
    }
  },
  "cells": [
    {
      "cell_type": "markdown",
      "metadata": {
        "id": "view-in-github",
        "colab_type": "text"
      },
      "source": [
        "<a href=\"https://colab.research.google.com/github/chrisrichardson/linear-algebra/blob/main/01_Linear_Algebra_Basics.ipynb\" target=\"_parent\"><img src=\"https://colab.research.google.com/assets/colab-badge.svg\" alt=\"Open In Colab\"/></a>"
      ]
    },
    {
      "cell_type": "code",
      "source": [
        "# Import the libraries we are going to use\n",
        "import numpy as np\n",
        "import numba"
      ],
      "metadata": {
        "id": "IhANWDUo-azq"
      },
      "execution_count": 24,
      "outputs": []
    },
    {
      "cell_type": "markdown",
      "source": [
        "# Matrices and vectors\n",
        "\n",
        "* vector = 1D: e.g. $(1.0, 2.2, -3.0, 4.0)$\n",
        "* matrix = 2D, e.g. $\\left(\\begin{matrix} 0.01 & 2.2 \\\\ -3.3 & 4.1 \\end{matrix}\\right)$\n",
        "* tensor = N-dimensional\n",
        "\n",
        "All of these are supported by `numpy`.\n"
      ],
      "metadata": {
        "id": "C-cmfslBGxJC"
      }
    },
    {
      "cell_type": "markdown",
      "source": [
        "## Vectors"
      ],
      "metadata": {
        "id": "9Fk55PVO9isq"
      }
    },
    {
      "cell_type": "markdown",
      "source": [
        "Note that a vector can be a row or a column, i.e. the shape can be `(1, N)` or `(N, 1)` - or just `(N,)`. The actual *value data* in memory is the same for all of these."
      ],
      "metadata": {
        "id": "2S8qIencaRGS"
      }
    },
    {
      "cell_type": "code",
      "source": [
        "# Vector\n",
        "b = np.array([1.0, 2.0, 3.0])\n",
        "print(b, b.shape)\n",
        "print()\n",
        "\n",
        "# Row vector\n",
        "b = np.array([[1.0, 2.0, 3.0]])\n",
        "print(b, b.shape)\n",
        "print()\n",
        "\n",
        "# Column vector\n",
        "b = np.array([[1.0], [2.0], [3.0]])\n",
        "print(b, b.shape)\n",
        "print()"
      ],
      "metadata": {
        "colab": {
          "base_uri": "https://localhost:8080/"
        },
        "id": "0_PCAOH3ZtfI",
        "outputId": "26eca6ee-d1be-4e96-b457-b58b42d7b71f"
      },
      "execution_count": 7,
      "outputs": [
        {
          "output_type": "stream",
          "name": "stdout",
          "text": [
            "[1. 2. 3.] (3,)\n",
            "\n",
            "[[1. 2. 3.]] (1, 3)\n",
            "\n",
            "[[1.]\n",
            " [2.]\n",
            " [3.]] (3, 1)\n",
            "\n"
          ]
        }
      ]
    },
    {
      "cell_type": "markdown",
      "source": [
        "### dtype\n",
        "\n",
        "A `numpy` array has a data type (or `dtype`) associated with it, which is usually a floating point type (e.g. 64-bit or \"double\" precision). You can set it or check it."
      ],
      "metadata": {
        "id": "tnYwu93s7LCi"
      }
    },
    {
      "cell_type": "code",
      "source": [
        "# Looking at dtypes\n",
        "b = np.array([1.0, 2.0, 5.0, 8.0])\n",
        "print(b, b.dtype)\n",
        "\n",
        "b = np.array([1, 2, 3])\n",
        "print(b, b.dtype)\n",
        "\n",
        "b = np.array([1, 2, 3], dtype=np.float32)\n",
        "print(b, b.dtype)\n"
      ],
      "metadata": {
        "colab": {
          "base_uri": "https://localhost:8080/"
        },
        "id": "cZo7G6Jk7jKQ",
        "outputId": "615025aa-c861-44ec-dc51-77edfafde0da"
      },
      "execution_count": 12,
      "outputs": [
        {
          "output_type": "stream",
          "name": "stdout",
          "text": [
            "[1. 2. 5. 8.] float64\n",
            "[1 2 3] int64\n",
            "[1. 2. 3.] float32\n"
          ]
        }
      ]
    },
    {
      "cell_type": "markdown",
      "source": [
        "### Operations on vectors\n",
        "\n",
        "dot product: `a.dot(b)`\n",
        "\n",
        "axpy: `w = a * x + y`\n",
        "\n",
        "norm: `np.linalg.norm(a)`"
      ],
      "metadata": {
        "id": "qNpd6A8i8A5n"
      }
    },
    {
      "cell_type": "code",
      "source": [
        "a = np.array([1.0, 2.0, 3.0])\n",
        "b = np.array([2.0, 0.5, -1.0])\n",
        "\n",
        "# Dot product\n",
        "print(a.dot(b))\n",
        "\n",
        "# Norm\n",
        "print(np.linalg.norm(a), np.linalg.norm(b))\n",
        "\n",
        "# axpy\n",
        "c = a + b\n",
        "print(c)\n",
        "\n",
        "# More unusual operation - pointwise multiplication:\n",
        "c = a * b\n",
        "print(c)\n"
      ],
      "metadata": {
        "colab": {
          "base_uri": "https://localhost:8080/"
        },
        "id": "AyJ1BChe8Wha",
        "outputId": "0712a26a-da88-44bf-b442-e55c4864da8e"
      },
      "execution_count": 23,
      "outputs": [
        {
          "output_type": "stream",
          "name": "stdout",
          "text": [
            "0.0\n",
            "3.7416573867739413 2.29128784747792\n",
            "[3.  2.5 2. ]\n",
            "[ 2.  1. -3.]\n"
          ]
        }
      ]
    },
    {
      "cell_type": "markdown",
      "source": [
        "## Matrices\n",
        "\n",
        "A matrix is a two-dimensional array which can be used for linear algebra operations."
      ],
      "metadata": {
        "id": "sbDiL95t9sF6"
      }
    },
    {
      "cell_type": "markdown",
      "source": [
        "### Matrices in numpy\n",
        "\n",
        "Matrices behave in numpy in a similar way to vectors.\n",
        "\n",
        "**Storage**\n",
        "\n",
        "The data is generally stored in contiguous memory, either *Row Major* (C-style) or *Column Major* (FORTRAN-style).\n",
        "Every entry is stored (even if it is zero). This is called **dense** storage."
      ],
      "metadata": {
        "id": "5gdT-DQ794HL"
      }
    },
    {
      "cell_type": "code",
      "source": [
        "A = np.array([[1, -2, 3],\n",
        "              [3, 1, 5],\n",
        "              [3, 4, 1]], dtype=np.float64)\n",
        "print(A)\n",
        "print(A.shape)\n",
        "print(A.dtype)\n",
        "print(A.flags)"
      ],
      "metadata": {
        "colab": {
          "base_uri": "https://localhost:8080/"
        },
        "id": "mCYMAtVUG9Yd",
        "outputId": "386b79ae-fc3f-4953-fd26-23a5b256c73d"
      },
      "execution_count": null,
      "outputs": [
        {
          "output_type": "stream",
          "name": "stdout",
          "text": [
            "[[ 1. -2.  3.]\n",
            " [ 3.  1.  5.]\n",
            " [ 3.  4.  1.]]\n",
            "(3, 3)\n",
            "float64\n",
            "  C_CONTIGUOUS : True\n",
            "  F_CONTIGUOUS : False\n",
            "  OWNDATA : True\n",
            "  WRITEABLE : True\n",
            "  ALIGNED : True\n",
            "  WRITEBACKIFCOPY : False\n",
            "\n"
          ]
        }
      ]
    },
    {
      "cell_type": "code",
      "source": [
        "# The default order is \"C\" (Row Major) but we can change the storage order\n",
        "\n",
        "A = np.array([[1, -2, 3],\n",
        "              [3, 1, 5],\n",
        "              [3, 4, 1]], dtype=np.float32, order='F')\n",
        "print(A)\n",
        "print(A.shape)\n",
        "print(A.dtype)\n",
        "print(A.flags)"
      ],
      "metadata": {
        "colab": {
          "base_uri": "https://localhost:8080/"
        },
        "id": "8fRGG7N9_8ym",
        "outputId": "25b4b61a-54c7-46fc-aae6-1f49696c82ce"
      },
      "execution_count": 29,
      "outputs": [
        {
          "output_type": "stream",
          "name": "stdout",
          "text": [
            "[[ 1. -2.  3.]\n",
            " [ 3.  1.  5.]\n",
            " [ 3.  4.  1.]]\n",
            "(3, 3)\n",
            "float32\n",
            "  C_CONTIGUOUS : False\n",
            "  F_CONTIGUOUS : True\n",
            "  OWNDATA : True\n",
            "  WRITEABLE : True\n",
            "  ALIGNED : True\n",
            "  WRITEBACKIFCOPY : False\n",
            "\n"
          ]
        }
      ]
    },
    {
      "cell_type": "markdown",
      "source": [
        "### Matrix-vector product\n",
        "\n",
        "Numpy supports matrix-vector product using the `@` operator, but there are several other ways we could do it. We will explore the different ways of doing \"MatVec\" and also try `numba` to generate efficient code.\n",
        "`numba` compiles the Python code in a function to machine code, so it runs much faster."
      ],
      "metadata": {
        "id": "uAk5MZArA6sq"
      }
    },
    {
      "cell_type": "code",
      "source": [
        "# First, let's use the numpy built-in method\n",
        "\n",
        "A = np.array([[1, -2, 3],\n",
        "              [3, 1, 5],\n",
        "              [3, 4, 1]], dtype=np.float64)\n",
        "b = np.array([1, 2, 3], dtype=np.float64)\n",
        "\n",
        "print(A)\n",
        "print(b)\n",
        "print(A @ b)"
      ],
      "metadata": {
        "colab": {
          "base_uri": "https://localhost:8080/"
        },
        "id": "zE74uQv1Bqj_",
        "outputId": "3099f0f8-b00c-4683-a8a8-2433eb9befe0"
      },
      "execution_count": 38,
      "outputs": [
        {
          "output_type": "stream",
          "name": "stdout",
          "text": [
            "[[ 1. -2.  3.]\n",
            " [ 3.  1.  5.]\n",
            " [ 3.  4.  1.]]\n",
            "[1. 2. 3.]\n",
            "[ 6. 20. 14.]\n"
          ]
        }
      ]
    },
    {
      "cell_type": "code",
      "source": [
        "# We can re-implement this by hand by doing a dot product of each row of `A` with the vector `b`\n",
        "\n",
        "def matvec0(A, b):\n",
        "  y = np.empty(A.shape[0])\n",
        "  for i in range(A.shape[0]):\n",
        "    y[i] = np.dot(A[i, :], b[:])\n",
        "  return y\n",
        "\n",
        "# It should give the same answer!\n",
        "print(matvec0(A, b))\n",
        "print(A @ b)"
      ],
      "metadata": {
        "id": "G5b5IZuIHLi5",
        "colab": {
          "base_uri": "https://localhost:8080/"
        },
        "outputId": "db7f8540-620c-43c1-a5eb-07cfa910bea8"
      },
      "execution_count": 39,
      "outputs": [
        {
          "output_type": "stream",
          "name": "stdout",
          "text": [
            "[ 6. 20. 14.]\n",
            "[ 6. 20. 14.]\n"
          ]
        }
      ]
    },
    {
      "cell_type": "code",
      "source": [
        "# But of course, it is much slower. We can use the built-in `%%timeit` to find out.\n",
        "# First let's make a bigger matrix and vector\n",
        "N = 1000\n",
        "A = np.random.random((N, N))\n",
        "b = np.random.random(N)"
      ],
      "metadata": {
        "id": "RQ8JsY7YCrY8"
      },
      "execution_count": 48,
      "outputs": []
    },
    {
      "cell_type": "code",
      "source": [
        "%%timeit -n 100\n",
        "A @ b"
      ],
      "metadata": {
        "colab": {
          "base_uri": "https://localhost:8080/"
        },
        "id": "b8rls6FGDPhy",
        "outputId": "847e0720-a302-4529-a302-ea03f43f956d"
      },
      "execution_count": 49,
      "outputs": [
        {
          "output_type": "stream",
          "name": "stdout",
          "text": [
            "411 µs ± 97.9 µs per loop (mean ± std. dev. of 7 runs, 100 loops each)\n"
          ]
        }
      ]
    },
    {
      "cell_type": "code",
      "source": [
        "%%timeit -n 100\n",
        "matvec0(A, b)"
      ],
      "metadata": {
        "colab": {
          "base_uri": "https://localhost:8080/"
        },
        "id": "begDM3dqC9Sm",
        "outputId": "28908e6c-f892-4c3a-f965-e50dc61f9577"
      },
      "execution_count": 50,
      "outputs": [
        {
          "output_type": "stream",
          "name": "stdout",
          "text": [
            "2.2 ms ± 88.7 µs per loop (mean ± std. dev. of 7 runs, 100 loops each)\n"
          ]
        }
      ]
    },
    {
      "cell_type": "code",
      "source": [
        "# We can compile our Python code using numba\n",
        "matvec0_numba = numba.njit(matvec0)"
      ],
      "metadata": {
        "id": "wiGwJ2MZDw-V"
      },
      "execution_count": 58,
      "outputs": []
    },
    {
      "cell_type": "code",
      "source": [
        "# Rerun this cell a few times: the first iteration is slower, because it needs to compile.\n",
        "%%timeit -n 100\n",
        "matvec0_numba(A, b)"
      ],
      "metadata": {
        "colab": {
          "base_uri": "https://localhost:8080/"
        },
        "id": "skltnH3nC9A6",
        "outputId": "8d7a930f-4aed-4d6f-eddb-ed7d7b352ce5"
      },
      "execution_count": 62,
      "outputs": [
        {
          "output_type": "stream",
          "name": "stdout",
          "text": [
            "421 µs ± 25.9 µs per loop (mean ± std. dev. of 7 runs, 100 loops each)\n"
          ]
        }
      ]
    },
    {
      "cell_type": "markdown",
      "source": [
        "# Exercise\n",
        "\n",
        "Use the rest of this notebook to experiment with MatVec.\n",
        "Here are some things to try:\n",
        "\n",
        "* change the matrix `A` from Row Major(`'C'`) to Column Major(`'F'`)\n",
        "* use different `numpy` functions (`dot` or `einsum` or `matmul` to do the MatVec) - does it matter?\n",
        "* write a different matvec \"`matvec1`\" which does not use a reduction, but accumulates the solution instead. Check it gives the same answer.\n",
        "* compile `matvec1` using `numba`\n",
        "\n",
        "(hint: the `matvec1` operation should look like `y += A[:, j] * b[j]`)\n",
        "\n",
        "For each case, try timing it using `%%timeit` - which is faster for `matvec0`, Row Major or Column Major? And for `matvec1`?\n",
        "\n"
      ],
      "metadata": {
        "id": "nLnBJjmsETT6"
      }
    },
    {
      "cell_type": "code",
      "source": [],
      "metadata": {
        "id": "4yP4nzhIHWoo"
      },
      "execution_count": null,
      "outputs": []
    }
  ]
}