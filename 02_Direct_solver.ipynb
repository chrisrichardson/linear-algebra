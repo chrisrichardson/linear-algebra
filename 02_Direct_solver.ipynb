{
  "nbformat": 4,
  "nbformat_minor": 0,
  "metadata": {
    "colab": {
      "provenance": [],
      "authorship_tag": "ABX9TyM5H2Msm+oi0vPgaDG9FqmF",
      "include_colab_link": true
    },
    "kernelspec": {
      "name": "python3",
      "display_name": "Python 3"
    },
    "language_info": {
      "name": "python"
    }
  },
  "cells": [
    {
      "cell_type": "markdown",
      "metadata": {
        "id": "view-in-github",
        "colab_type": "text"
      },
      "source": [
        "<a href=\"https://colab.research.google.com/github/chrisrichardson/linear-algebra/blob/main/02_Direct_solver.ipynb\" target=\"_parent\"><img src=\"https://colab.research.google.com/assets/colab-badge.svg\" alt=\"Open In Colab\"/></a>"
      ]
    },
    {
      "cell_type": "code",
      "execution_count": 1,
      "metadata": {
        "colab": {
          "base_uri": "https://localhost:8080/"
        },
        "id": "0s_PBSemmVZH",
        "outputId": "c7bc4fcc-d152-4dd7-cce8-35989f5d542a"
      },
      "outputs": [
        {
          "output_type": "stream",
          "name": "stdout",
          "text": [
            "Collecting pyamg\n",
            "  Downloading pyamg-5.2.1-cp310-cp310-manylinux_2_17_x86_64.manylinux2014_x86_64.whl (2.0 MB)\n",
            "\u001b[2K     \u001b[90m━━━━━━━━━━━━━━━━━━━━━━━━━━━━━━━━━━━━━━━━\u001b[0m \u001b[32m2.0/2.0 MB\u001b[0m \u001b[31m8.2 MB/s\u001b[0m eta \u001b[36m0:00:00\u001b[0m\n",
            "\u001b[?25hRequirement already satisfied: numpy in /usr/local/lib/python3.10/dist-packages (from pyamg) (1.25.2)\n",
            "Requirement already satisfied: scipy>=1.11.0 in /usr/local/lib/python3.10/dist-packages (from pyamg) (1.11.4)\n",
            "Installing collected packages: pyamg\n",
            "Successfully installed pyamg-5.2.1\n"
          ]
        }
      ],
      "source": [
        "# Install the libraries we need\n",
        "!pip install pyamg\n",
        "import numpy as np\n",
        "import pyamg"
      ]
    },
    {
      "cell_type": "markdown",
      "source": [
        "# Direct solvers\n",
        "\n",
        "A direct solver takes the Matrix `A` and manipulates it to solve the problem `A.x = b`, in much the same way as we would solve simultaneous equations by hand. Gaussian elimination involves taking rows, multiplying and combining them to introduce zeros where we want them.\n",
        "\n",
        "### Model problem\n",
        "We will use `pyamg` to generate some matrices for us."
      ],
      "metadata": {
        "id": "lsjXEmzdmpvU"
      }
    },
    {
      "cell_type": "code",
      "source": [
        "# This will create a 4x4 matrix\n",
        "A = np.array(pyamg.gallery.laplacian.poisson((2, 2)).todense())\n",
        "A"
      ],
      "metadata": {
        "colab": {
          "base_uri": "https://localhost:8080/"
        },
        "id": "JdU7Y8ZCmg3j",
        "outputId": "ba5e0c34-9d64-4d78-c3fa-9668ce6412ca"
      },
      "execution_count": 78,
      "outputs": [
        {
          "output_type": "execute_result",
          "data": {
            "text/plain": [
              "array([[ 4., -1., -1.,  0.],\n",
              "       [-1.,  4.,  0., -1.],\n",
              "       [-1.,  0.,  4., -1.],\n",
              "       [ 0., -1., -1.,  4.]])"
            ]
          },
          "metadata": {},
          "execution_count": 78
        }
      ]
    },
    {
      "cell_type": "code",
      "source": [
        "# Some example input data\n",
        "y = np.array([1.0, 2.0, 3.0, 4.0])"
      ],
      "metadata": {
        "id": "u-XXbn7wniWN"
      },
      "execution_count": 79,
      "outputs": []
    },
    {
      "cell_type": "code",
      "source": [
        "# MatVec b = A.y\n",
        "b = A @ y\n",
        "b"
      ],
      "metadata": {
        "colab": {
          "base_uri": "https://localhost:8080/"
        },
        "id": "nkSoa2mqn8Hy",
        "outputId": "e59443a1-4ed9-401b-f4f6-27e59d43e8b4"
      },
      "execution_count": 80,
      "outputs": [
        {
          "output_type": "execute_result",
          "data": {
            "text/plain": [
              "array([-1.,  3.,  7., 11.])"
            ]
          },
          "metadata": {},
          "execution_count": 80
        }
      ]
    },
    {
      "cell_type": "code",
      "source": [
        "# numpy has a built-in solver, so we should be able to solve A.x = b, and get back to our original input \"y\".\n",
        "np.linalg.solve(A, b)"
      ],
      "metadata": {
        "colab": {
          "base_uri": "https://localhost:8080/"
        },
        "id": "Vl7nXJERn8-f",
        "outputId": "23bfcba2-779e-43d1-c90c-41a209162182"
      },
      "execution_count": 81,
      "outputs": [
        {
          "output_type": "execute_result",
          "data": {
            "text/plain": [
              "array([1., 2., 3., 4.])"
            ]
          },
          "metadata": {},
          "execution_count": 81
        }
      ]
    },
    {
      "cell_type": "code",
      "source": [
        "# Let's try to solve it ourselves by Gaussian elimination\n",
        "\n",
        "# First, let us make an \"augmented\" matrix, by glueing the RHS vector onto A:\n",
        "\n",
        "B = np.concatenate((A, b.reshape(4, 1)), axis=1)\n",
        "print(B)\n",
        "\n",
        "# This represents the system of equations, and we can now manipulate it by\n",
        "# adding and subtracting rows from each other\n",
        "\n"
      ],
      "metadata": {
        "colab": {
          "base_uri": "https://localhost:8080/"
        },
        "id": "KSJy6QSAoCvB",
        "outputId": "8afc09bd-0c5b-459a-ea38-81ea4d76d5df"
      },
      "execution_count": 85,
      "outputs": [
        {
          "output_type": "stream",
          "name": "stdout",
          "text": [
            "[[ 4. -1. -1.  0. -1.]\n",
            " [-1.  4.  0. -1.  3.]\n",
            " [-1.  0.  4. -1.  7.]\n",
            " [ 0. -1. -1.  4. 11.]]\n"
          ]
        }
      ]
    },
    {
      "cell_type": "code",
      "source": [
        "# Now, we could get rid of B[1, 0] and B[2, 0] if we add row 0 divided by 4 to rows 1 and 2.\n",
        "B[1, :] = B[1, :] + B[0, :]/4\n",
        "B[2, :] = B[2, :] + B[0, :]/4\n",
        "print(B)"
      ],
      "metadata": {
        "colab": {
          "base_uri": "https://localhost:8080/"
        },
        "id": "hU60Ayn3uZZB",
        "outputId": "18a0bfbd-f1df-4da1-daec-1010b01a48d0"
      },
      "execution_count": 86,
      "outputs": [
        {
          "output_type": "stream",
          "name": "stdout",
          "text": [
            "[[ 4.   -1.   -1.    0.   -1.  ]\n",
            " [ 0.    3.75 -0.25 -1.    2.75]\n",
            " [ 0.   -0.25  3.75 -1.    6.75]\n",
            " [ 0.   -1.   -1.    4.   11.  ]]\n"
          ]
        }
      ]
    },
    {
      "cell_type": "code",
      "source": [
        "\n",
        "# We could write a function to do this\n",
        "def clear_down(B, row):\n",
        "    # Get the diagonal entry on this row\n",
        "    diag = B[row, row]\n",
        "    # Clear all entries below the diagonal by subtracting scaled copies of this row\n",
        "    for i in range(row + 1, B.shape[0]):\n",
        "        B[i, :] -= B[row, :] * B[i, row]/diag\n",
        "    return B\n",
        "\n",
        "B0 = clear_down(B, 0)\n",
        "B1 = clear_down(B0, 1)\n",
        "B2 = clear_down(B1, 2)\n",
        "print(B2)\n"
      ],
      "metadata": {
        "colab": {
          "base_uri": "https://localhost:8080/"
        },
        "id": "FGs3Pw_0pbpu",
        "outputId": "610224f4-eb96-4ada-ec70-307821e049c6"
      },
      "execution_count": 87,
      "outputs": [
        {
          "output_type": "stream",
          "name": "stdout",
          "text": [
            "[[ 4.         -1.         -1.          0.         -1.        ]\n",
            " [ 0.          3.75       -0.25       -1.          2.75      ]\n",
            " [ 0.          0.          3.73333333 -1.06666667  6.93333333]\n",
            " [ 0.          0.          0.          3.42857143 13.71428571]]\n"
          ]
        }
      ]
    },
    {
      "cell_type": "code",
      "source": [
        "# The system can now easily be solved\n",
        "\n",
        "# Extract the 4x4 matrix and 4x1 vector from B2\n",
        "A = B2[:4, :4]\n",
        "b = B2[:, 4]\n",
        "\n",
        "x = np.empty(4)\n",
        "\n",
        "# A[3, 3] * x[3] = b[3]\n",
        "x[3] = b[3] / A[3, 3]\n",
        "\n",
        "# A[2, 2] * x[2] + A[2, 3] * x[3] = b[2] - but we know x[3] now... so rearrange\n",
        "x[2] = (b[2] - x[3] * A[2, 3]) / A[2, 2]\n",
        "\n",
        "# etc\n",
        "x[1] = (b[1] - x[2] * A[1, 2] - x[3] * A[1, 3]) / A[1, 1]\n",
        "x[0] = (b[0] - x[1] * A[0, 1] - x[2] * A[0, 2] - x[3] * A[0, 3]) / A[0, 0]\n",
        "\n",
        "# Should be [1. 2. 3. 4.]\n",
        "print(x)"
      ],
      "metadata": {
        "colab": {
          "base_uri": "https://localhost:8080/"
        },
        "id": "0x9syiQ6sSyG",
        "outputId": "74cedb37-76cd-4af2-8812-20cb7b38800d"
      },
      "execution_count": 89,
      "outputs": [
        {
          "output_type": "stream",
          "name": "stdout",
          "text": [
            "[1. 2. 3. 4.]\n"
          ]
        }
      ]
    },
    {
      "cell_type": "markdown",
      "source": [
        "## Exercise\n",
        "\n",
        "* Write a complete function which performs Gaussian elimination on a matrix + vector system\n",
        "\n",
        "* Test your code on a larger matrix, e.g.\n",
        "* `A = np.array(pyamg.gallery.laplacian.poisson((5, 5)).todense())`\n",
        "* `A = np.random.rand(5, 5)`"
      ],
      "metadata": {
        "id": "wrVGwK6gwE2s"
      }
    },
    {
      "cell_type": "code",
      "source": [
        "# Hint: use the clear_down() routine above as a starting point\n",
        "# Full solution is below!\n",
        "\n",
        "\n",
        "\n"
      ],
      "metadata": {
        "id": "g7NV5_Lj2suO"
      },
      "execution_count": null,
      "outputs": []
    },
    {
      "cell_type": "code",
      "source": [
        "#@title Solution to exercise\n",
        "\n",
        "def gaussian_elim(A, b):\n",
        "  B = np.concatenate((A, b.reshape(b.shape[0], 1)), axis=1)\n",
        "  for row in range(B.shape[0] - 1):\n",
        "    diag = B[row, row]\n",
        "    for i in range(row + 1, B.shape[0]):\n",
        "      B[i, :] -= B[row, :] * B[i, row]/diag\n",
        "\n",
        "  x = np.empty(B.shape[0])\n",
        "  for i in range(B.shape[0] - 1, -1, -1):\n",
        "    x[i] = (B[i, -1] - np.dot(B[i, i + 1:-1], x[i + 1:])) / B[i, i]\n",
        "\n",
        "  return x\n",
        "\n",
        "A = np.random.rand(5, 5)\n",
        "b = np.arange(A.shape[0])\n",
        "\n",
        "print(A)\n",
        "print(b)\n",
        "y = A @ b\n",
        "print(y)\n",
        "\n",
        "np.set_printoptions(suppress=True)\n",
        "print(gaussian_elim(A, y))\n"
      ],
      "metadata": {
        "cellView": "form",
        "id": "SOVeEH8-tMGs"
      },
      "execution_count": null,
      "outputs": []
    },
    {
      "cell_type": "code",
      "source": [],
      "metadata": {
        "id": "hBh6KRRIxJ-B"
      },
      "execution_count": 133,
      "outputs": []
    }
  ]
}